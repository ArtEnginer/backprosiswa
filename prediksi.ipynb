{
 "cells": [
  {
   "cell_type": "markdown",
   "id": "eafc27f9",
   "metadata": {},
   "source": [
    "# Pilih Model"
   ]
  },
  {
   "cell_type": "code",
   "execution_count": null,
   "id": "baed1e62",
   "metadata": {
    "vscode": {
     "languageId": "plaintext"
    }
   },
   "outputs": [],
   "source": []
  },
  {
   "cell_type": "markdown",
   "id": "32a94121",
   "metadata": {},
   "source": [
    "# Format Data"
   ]
  },
  {
   "cell_type": "code",
   "execution_count": null,
   "id": "4a0aa053",
   "metadata": {
    "vscode": {
     "languageId": "plaintext"
    }
   },
   "outputs": [],
   "source": []
  },
  {
   "cell_type": "markdown",
   "id": "f6a83b2f",
   "metadata": {},
   "source": [
    "# Inisiasi Data yang akan diprediksi"
   ]
  },
  {
   "cell_type": "code",
   "execution_count": null,
   "id": "ec81bd7f",
   "metadata": {
    "vscode": {
     "languageId": "plaintext"
    }
   },
   "outputs": [],
   "source": []
  },
  {
   "cell_type": "markdown",
   "id": "f7b957aa",
   "metadata": {},
   "source": [
    "# Prediksi Data"
   ]
  },
  {
   "cell_type": "code",
   "execution_count": null,
   "id": "10872129",
   "metadata": {
    "vscode": {
     "languageId": "plaintext"
    }
   },
   "outputs": [],
   "source": []
  }
 ],
 "metadata": {
  "language_info": {
   "name": "python"
  }
 },
 "nbformat": 4,
 "nbformat_minor": 5
}
